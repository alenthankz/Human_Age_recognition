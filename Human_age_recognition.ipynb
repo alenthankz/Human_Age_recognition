{
  "nbformat": 4,
  "nbformat_minor": 0,
  "metadata": {
    "colab": {
      "name": "Human_age_recognition.ipynb",
      "provenance": [],
      "collapsed_sections": [],
      "toc_visible": true,
      "include_colab_link": true
    },
    "kernelspec": {
      "display_name": "Python 3",
      "language": "python",
      "name": "python3"
    },
    "language_info": {
      "codemirror_mode": {
        "name": "ipython",
        "version": 3
      },
      "file_extension": ".py",
      "mimetype": "text/x-python",
      "name": "python",
      "nbconvert_exporter": "python",
      "pygments_lexer": "ipython3",
      "version": "3.9.1"
    }
  },
  "cells": [
    {
      "cell_type": "markdown",
      "metadata": {
        "id": "view-in-github",
        "colab_type": "text"
      },
      "source": [
        "<a href=\"https://colab.research.google.com/github/alenthankz/Human_Age_recognition/blob/main/Human_age_recognition.ipynb\" target=\"_parent\"><img src=\"https://colab.research.google.com/assets/colab-badge.svg\" alt=\"Open In Colab\"/></a>"
      ]
    },
    {
      "cell_type": "markdown",
      "metadata": {
        "id": "cBKVmH8HpYLh"
      },
      "source": [
        "## Stage 1: Import dependencies and setting up environment"
      ]
    },
    {
      "cell_type": "code",
      "metadata": {
        "id": "b9TPw8IAZjBV"
      },
      "source": [
        "import pandas as pd\n",
        "import numpy as np\n",
        "import tensorflow as tf\n",
        "import zipfile\n",
        "import os\n",
        "import matplotlib.pyplot as plt \n",
        "from tensorflow.keras.preprocessing.image import ImageDataGenerator\n",
        "#from tqdm import tqdm_notebook"
      ],
      "execution_count": null,
      "outputs": []
    },
    {
      "cell_type": "markdown",
      "metadata": {
        "id": "yQCp3HBOpYLp"
      },
      "source": [
        "### Downloading dataset"
      ]
    },
    {
      "cell_type": "code",
      "metadata": {
        "id": "f34lzpB4ROUQ",
        "colab": {
          "base_uri": "https://localhost:8080/"
        },
        "outputId": "b34b9cf9-61aa-4079-9587-b9546d6c9d29"
      },
      "source": [
        "!gdown 'https://drive.google.com/uc?id=10RpTiLuvVvg-3OkGnlkXmDDJggWXNDnH'\n",
        "#only if opened in colab"
      ],
      "execution_count": null,
      "outputs": [
        {
          "output_type": "stream",
          "text": [
            "Downloading...\n",
            "From: https://drive.google.com/uc?id=10RpTiLuvVvg-3OkGnlkXmDDJggWXNDnH\n",
            "To: /content/human-age-recognition.zip\n",
            "381MB [00:03, 108MB/s]\n"
          ],
          "name": "stdout"
        }
      ]
    },
    {
      "cell_type": "markdown",
      "metadata": {
        "id": "JzxV-WGWpYLr"
      },
      "source": [
        "## Stage 2: Dataset preprocessing"
      ]
    },
    {
      "cell_type": "markdown",
      "metadata": {
        "id": "foyNpQrBpYLr"
      },
      "source": [
        "### Unzipping the dataset "
      ]
    },
    {
      "cell_type": "code",
      "metadata": {
        "id": "im8pNi9Kpph2"
      },
      "source": [
        "dataset_path = \"./human-age-recognition.zip\"\n",
        "zip_object = zipfile.ZipFile(file=dataset_path, mode=\"r\")\n",
        "zip_object.extractall(\"./\")\n",
        "zip_object.close()"
      ],
      "execution_count": null,
      "outputs": []
    },
    {
      "cell_type": "code",
      "metadata": {
        "id": "pvgAcdjIbsg2"
      },
      "source": [
        "\"\"\"\n",
        "dataset_path = \"./trainZip.zip\"\n",
        "zip_object = zipfile.ZipFile(file=dataset_path, mode=\"r\")\n",
        "zip_object.extractall(\"./\")\n",
        "zip_object.close()\n",
        "\"\"\""
      ],
      "execution_count": null,
      "outputs": []
    },
    {
      "cell_type": "code",
      "metadata": {
        "id": "iOScSZXPtwMs"
      },
      "source": [
        "\"\"\"\n",
        "dataset_path = \"./testZip.zip\"\n",
        "zip_object = zipfile.ZipFile(file=dataset_path, mode=\"r\")\n",
        "zip_object.extractall(\"./\")\n",
        "zip_object.close()\n",
        "\"\"\""
      ],
      "execution_count": null,
      "outputs": []
    },
    {
      "cell_type": "markdown",
      "metadata": {
        "id": "FkDyg1_gpYLs"
      },
      "source": [
        "### Seting up dataset paths"
      ]
    },
    {
      "cell_type": "code",
      "metadata": {
        "id": "5lHsV_MspYLs"
      },
      "source": [
        "train_dir = \"./train\"\n",
        "test_dir = \"./test\""
      ],
      "execution_count": null,
      "outputs": []
    },
    {
      "cell_type": "code",
      "metadata": {
        "id": "2H3DLJlupYLt"
      },
      "source": [
        "#os.mkdir(\"./test_\")\n",
        "#os.mkdir(\"./test_/images\")\n",
        "#import shutil \n",
        "#shutil.copy(test_dir,\"./test_/images\")\n",
        "#test_dir = \"./test_\"\n",
        "\n"
      ],
      "execution_count": null,
      "outputs": []
    },
    {
      "cell_type": "code",
      "metadata": {
        "id": "Rq_36r4muKKK"
      },
      "source": [
        "IMG_SHAPE = (224, 224, 3)\n",
        "HEIGHT =224\n",
        "WEIGHT=224\n",
        "BATCH_SIZE=128\n",
        "NO_OF_CLASSES = len ( os.listdir(train_dir) )\n",
        "CLASSES_DICT = {\n",
        "    0 : 'Age_1 to Age_10',\n",
        "    1 : 'Age_11 to Age_20',\n",
        "    2 : 'Age_21 to Age_30',\n",
        "    3 : 'Age_31 to Age_40',\n",
        "    4 : 'Age_41 to Age_50',\n",
        "    5 : 'Age_51 to Age_60',\n",
        "    6 : 'Age_61 to Age_70',\n",
        "    7 : 'Age_71 to Age_80'\n",
        "}"
      ],
      "execution_count": null,
      "outputs": []
    },
    {
      "cell_type": "markdown",
      "metadata": {
        "id": "YDGZWVrApYLt"
      },
      "source": [
        "### Visualising"
      ]
    },
    {
      "cell_type": "code",
      "metadata": {
        "id": "ii85ofZzpYLu",
        "outputId": "cc1b39f0-cebe-4de9-a482-5359c69927cc"
      },
      "source": [
        "path_train_ls = [ str(i) for i in range(NO_OF_CLASSES)]\n",
        "number_train_ls = [  len( os.listdir( os.path.join(train_dir,str(folder)) ) )  for folder in range(NO_OF_CLASSES) ]\n",
        "\n",
        "\n",
        "plt.figure(figsize=(15,6))\n",
        "plt.subplot(1,2,1)\n",
        "plt.bar(path_train_ls,number_train_ls)\n",
        "plt.title(\"Training Data\")\n",
        "plt.xlabel(\"Class\")\n",
        "plt.ylabel(\"Number of Images present\")"
      ],
      "execution_count": null,
      "outputs": [
        {
          "output_type": "execute_result",
          "data": {
            "text/plain": [
              "Text(0, 0.5, 'Number of Images present')"
            ]
          },
          "metadata": {
            "tags": []
          },
          "execution_count": 8
        },
        {
          "output_type": "display_data",
          "data": {
            "image/png": "[encoded data removed]",
            "text/plain": [
              "<Figure size 1080x432 with 1 Axes>"
            ]
          },
          "metadata": {
            "tags": [],
            "needs_background": "light"
          }
        }
      ]
    },
    {
      "cell_type": "markdown",
      "metadata": {
        "id": "yrzF_Fz_pYLv"
      },
      "source": [
        "### Calculating class weight "
      ]
    },
    {
      "cell_type": "code",
      "metadata": {
        "id": "vl-AvQckpYLv"
      },
      "source": [
        "total_train_ls = sum(number_train_ls)\n",
        "CLASS_WEIGHTS={}"
      ],
      "execution_count": null,
      "outputs": []
    },
    {
      "cell_type": "code",
      "metadata": {
        "id": "peIUBVYQpYLv",
        "outputId": "6befbc28-90bc-42e0-d4db-a0dbe6e1d118"
      },
      "source": [
        "for i in range(NO_OF_CLASSES):\n",
        "    CLASS_WEIGHTS[i]= 1/number_train_ls[i] * total_train_ls/2\n",
        "\n",
        "CLASS_WEIGHTS"
      ],
      "execution_count": null,
      "outputs": [
        {
          "output_type": "execute_result",
          "data": {
            "text/plain": [
              "{0: 5.797826086956522,\n",
              " 1: 5.017873941674506,\n",
              " 2: 2.0351011064479207,\n",
              " 3: 2.0022522522522523,\n",
              " 4: 3.428020565552699,\n",
              " 5: 5.804134929270947,\n",
              " 6: 9.698181818181817,\n",
              " 7: 14.224}"
            ]
          },
          "metadata": {
            "tags": []
          },
          "execution_count": 10
        }
      ]
    },
    {
      "cell_type": "markdown",
      "metadata": {
        "id": "zzlTtEB0pYLv"
      },
      "source": [
        "## Stage 3: Building the model"
      ]
    },
    {
      "cell_type": "markdown",
      "metadata": {
        "id": "1UOT93oupYLw"
      },
      "source": [
        "### Loading the pre-trained model (ResNet50)"
      ]
    },
    {
      "cell_type": "code",
      "metadata": {
        "id": "1FoszRD0cGVq"
      },
      "source": [
        "\n",
        "base_model = tf.keras.applications.ResNet50(input_shape=IMG_SHAPE, include_top=False, weights=\"imagenet\")\n"
      ],
      "execution_count": null,
      "outputs": []
    },
    {
      "cell_type": "code",
      "metadata": {
        "id": "Kn4t_tKOcT95"
      },
      "source": [
        "base_model.trainable = True"
      ],
      "execution_count": null,
      "outputs": []
    },
    {
      "cell_type": "code",
      "metadata": {
        "colab": {
          "base_uri": "https://localhost:8080/"
        },
        "id": "CqwkjPIwcU1_",
        "outputId": "3f892f5b-2ae9-448b-adce-858b1dcd1639"
      },
      "source": [
        "print(\"Number of layersin the base model: {}\".format(len(base_model.layers)))"
      ],
      "execution_count": null,
      "outputs": [
        {
          "output_type": "stream",
          "text": [
            "Number of layersin the base model: 175\n"
          ],
          "name": "stdout"
        }
      ]
    },
    {
      "cell_type": "markdown",
      "metadata": {
        "id": "GkS3F2gnpYLx"
      },
      "source": [
        "### Fine tuning"
      ]
    },
    {
      "cell_type": "code",
      "metadata": {
        "id": "DmImHE4NcXMs"
      },
      "source": [
        "fine_tune_at = 120\n",
        "for layer in base_model.layers[:fine_tune_at]:\n",
        "    layer.trainable = False"
      ],
      "execution_count": null,
      "outputs": []
    },
    {
      "cell_type": "code",
      "metadata": {
        "colab": {
          "base_uri": "https://localhost:8080/"
        },
        "id": "JpCxucpgc0Nk",
        "outputId": "d2b82476-75b8-448c-b208-7af2bb76be2a"
      },
      "source": [
        "base_model.output"
      ],
      "execution_count": null,
      "outputs": [
        {
          "output_type": "execute_result",
          "data": {
            "text/plain": [
              "<KerasTensor: shape=(None, 7, 7, 2048) dtype=float32 (created by layer 'conv5_block3_out')>"
            ]
          },
          "metadata": {
            "tags": []
          },
          "execution_count": 15
        }
      ]
    },
    {
      "cell_type": "markdown",
      "metadata": {
        "id": "ElFsLuCopYLx"
      },
      "source": [
        "### Defining the custom head for our network"
      ]
    },
    {
      "cell_type": "code",
      "metadata": {
        "colab": {
          "base_uri": "https://localhost:8080/"
        },
        "id": "8RQ2FczHc8yk",
        "outputId": "0db54a14-a92e-46e4-dcc1-c489be483e0a"
      },
      "source": [
        "global_average_layer = tf.keras.layers.GlobalAveragePooling2D()(base_model.output)\n",
        "global_average_layer"
      ],
      "execution_count": null,
      "outputs": [
        {
          "output_type": "execute_result",
          "data": {
            "text/plain": [
              "<KerasTensor: shape=(None, 2048) dtype=float32 (created by layer 'global_average_pooling2d')>"
            ]
          },
          "metadata": {
            "tags": []
          },
          "execution_count": 16
        }
      ]
    },
    {
      "cell_type": "code",
      "metadata": {
        "id": "hYguaawLdCk2"
      },
      "source": [
        "prediction_layer = tf.keras.layers.Dense(units=NO_OF_CLASSES, activation='softmax')(global_average_layer)"
      ],
      "execution_count": null,
      "outputs": []
    },
    {
      "cell_type": "markdown",
      "metadata": {
        "id": "6-fg5iy6pYLy"
      },
      "source": [
        "### Defining the model"
      ]
    },
    {
      "cell_type": "code",
      "metadata": {
        "id": "-NqpVh5YdpNC"
      },
      "source": [
        "model = tf.keras.models.Model(inputs=base_model.input, outputs=prediction_layer)"
      ],
      "execution_count": null,
      "outputs": []
    },
    {
      "cell_type": "markdown",
      "metadata": {
        "id": "l2-q0FcopYLy"
      },
      "source": [
        "### Compiling the model"
      ]
    },
    {
      "cell_type": "code",
      "metadata": {
        "id": "RNZ8H7dqdKU3"
      },
      "source": [
        "model.compile(loss=\"categorical_crossentropy\",\n",
        "              optimizer=\"Adam\", metrics=[\"categorical_accuracy\"])"
      ],
      "execution_count": null,
      "outputs": []
    },
    {
      "cell_type": "markdown",
      "metadata": {
        "id": "ugOLMuwvpYLz"
      },
      "source": [
        "## Stage 4: Creating Data Generators"
      ]
    },
    {
      "cell_type": "code",
      "metadata": {
        "id": "2USMsZ6FeFFK",
        "outputId": "2675878c-a2d3-408b-b069-f21c5d976864"
      },
      "source": [
        "train_datagen = ImageDataGenerator(rescale=1./255 , validation_split=0.2)\n",
        "train_generator = train_datagen.flow_from_directory(train_dir, target_size=(HEIGHT, WEIGHT), batch_size=BATCH_SIZE, class_mode=\"categorical\", subset = \"training\")\n",
        "validation_generator =train_datagen.flow_from_directory(train_dir,target_size=(HEIGHT, WEIGHT), batch_size=BATCH_SIZE, class_mode=\"categorical\", subset = \"validation\")"
      ],
      "execution_count": null,
      "outputs": [
        {
          "output_type": "stream",
          "text": [
            "Found 8537 images belonging to 8 classes.\n",
            "Found 2131 images belonging to 8 classes.\n"
          ],
          "name": "stdout"
        }
      ]
    },
    {
      "cell_type": "code",
      "metadata": {
        "id": "ax42fU9reGS8",
        "outputId": "c4047c64-6623-4178-8bbf-8719079b8bd6"
      },
      "source": [
        "test_datagen = ImageDataGenerator(rescale=1./255,)\n",
        "test_generator = test_datagen.flow_from_directory(test_dir,target_size=(HEIGHT, WEIGHT), batch_size=BATCH_SIZE)"
      ],
      "execution_count": null,
      "outputs": [
        {
          "output_type": "stream",
          "text": [
            "Found 2664 images belonging to 1 classes.\n"
          ],
          "name": "stdout"
        }
      ]
    },
    {
      "cell_type": "markdown",
      "metadata": {
        "id": "2hBFc8cfgDWI",
        "outputId": "3ced583c-6ebf-42be-fba7-6d266a13b6c7"
      },
      "source": [
        "### Stage 5: Training the model"
      ]
    },
    {
      "cell_type": "code",
      "metadata": {
        "id": "VGb70w22eoUA"
      },
      "source": [
        " history = model.fit(train_generator, epochs=5,validation_data = validation_generator, class_weight=CLASS_WEIGHTS)"
      ],
      "execution_count": null,
      "outputs": []
    },
    {
      "cell_type": "code",
      "metadata": {
        "id": "WY24oHE_pYL0"
      },
      "source": [
        "model.save('./last_trained_model')"
      ],
      "execution_count": null,
      "outputs": []
    },
    {
      "cell_type": "markdown",
      "metadata": {
        "id": "ynIXjZYRpYL0"
      },
      "source": [
        "## Stage 6: Loading the best trained model"
      ]
    },
    {
      "cell_type": "code",
      "metadata": {
        "id": "ClWbvrLIpYL0"
      },
      "source": [
        "mymodel = tf.keras.models.load_model('./last_trained_model')"
      ],
      "execution_count": null,
      "outputs": []
    },
    {
      "cell_type": "markdown",
      "metadata": {
        "id": "KoOxbgkbpYL1"
      },
      "source": [
        "## Stage 7: Predicting "
      ]
    },
    {
      "cell_type": "code",
      "metadata": {
        "id": "h6muiTcJpYL1"
      },
      "source": [
        "pred = mymodel.predict(test_generator)\n",
        "predictions = [np.argmax(i) for i in pred]"
      ],
      "execution_count": null,
      "outputs": []
    },
    {
      "cell_type": "code",
      "metadata": {
        "id": "VGLJjtcJpYL1",
        "outputId": "1fc2657d-f7af-42c8-fa2f-4a7ab0ed98a6"
      },
      "source": [
        "#ls = os.listdir(  test_dir + \"/images\"   )\n",
        "#if running locally\n",
        "ls = os.listdir(  test_dir + \"/test_\"   )\n",
        "#if in colabs\n",
        "\n",
        "ls.sort()\n",
        "\n",
        "test_df = pd.DataFrame(ls, columns = [\"Image Name\"])\n",
        "test_df[\"Labels\"] = predictions\n",
        "test_df.to_csv('./submission.csv',index=False)\n",
        "test_df.head(20)"
      ],
      "execution_count": null,
      "outputs": [
        {
          "output_type": "execute_result",
          "data": {
            "text/html": [
              "<div>\n",
              "<style scoped>\n",
              "    .dataframe tbody tr th:only-of-type {\n",
              "        vertical-align: middle;\n",
              "    }\n",
              "\n",
              "    .dataframe tbody tr th {\n",
              "        vertical-align: top;\n",
              "    }\n",
              "\n",
              "    .dataframe thead th {\n",
              "        text-align: right;\n",
              "    }\n",
              "</style>\n",
              "<table border=\"1\" class=\"dataframe\">\n",
              "  <thead>\n",
              "    <tr style=\"text-align: right;\">\n",
              "      <th></th>\n",
              "      <th>Image Name</th>\n",
              "      <th>Labels</th>\n",
              "    </tr>\n",
              "  </thead>\n",
              "  <tbody>\n",
              "    <tr>\n",
              "      <th>0</th>\n",
              "      <td>000010.jpg</td>\n",
              "      <td>2</td>\n",
              "    </tr>\n",
              "    <tr>\n",
              "      <th>1</th>\n",
              "      <td>0000100.jpg</td>\n",
              "      <td>2</td>\n",
              "    </tr>\n",
              "    <tr>\n",
              "      <th>2</th>\n",
              "      <td>00001000.jpg</td>\n",
              "      <td>2</td>\n",
              "    </tr>\n",
              "    <tr>\n",
              "      <th>3</th>\n",
              "      <td>000010000.jpg</td>\n",
              "      <td>2</td>\n",
              "    </tr>\n",
              "    <tr>\n",
              "      <th>4</th>\n",
              "      <td>000010005.jpg</td>\n",
              "      <td>2</td>\n",
              "    </tr>\n",
              "  </tbody>\n",
              "</table>\n",
              "</div>"
            ],
            "text/plain": [
              "      Image Name  Labels\n",
              "0     000010.jpg       2\n",
              "1    0000100.jpg       2\n",
              "2   00001000.jpg       2\n",
              "3  000010000.jpg       2\n",
              "4  000010005.jpg       2"
            ]
          },
          "metadata": {
            "tags": []
          },
          "execution_count": 26
        }
      ]
    }
  ]
}